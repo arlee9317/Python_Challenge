{
 "cells": [
  {
   "cell_type": "code",
   "execution_count": 111,
   "metadata": {},
   "outputs": [],
   "source": [
    "#import modules\n",
    "import pandas as pd \n",
    "import csv\n",
    "import os"
   ]
  },
  {
   "cell_type": "code",
   "execution_count": 50,
   "metadata": {},
   "outputs": [],
   "source": [
    "#find path for data you are trying to read from\n",
    "file = (\"Resources/budget_data.csv\")"
   ]
  },
  {
   "cell_type": "code",
   "execution_count": 51,
   "metadata": {},
   "outputs": [
    {
     "data": {
      "text/plain": [
       "Index(['Date', 'Profit/Losses'], dtype='object')"
      ]
     },
     "execution_count": 51,
     "metadata": {},
     "output_type": "execute_result"
    }
   ],
   "source": [
    "#read pandas to read file\n",
    "df = pd.read_csv(file)\n",
    "df.columns"
   ]
  },
  {
   "cell_type": "code",
   "execution_count": 52,
   "metadata": {
    "scrolled": false
   },
   "outputs": [
    {
     "name": "stdout",
     "output_type": "stream",
     "text": [
      "86\n"
     ]
    }
   ],
   "source": [
    "#Getting row count for just the Date column \n",
    "Total_months = df.set_index(['Date'])\n",
    "print(len(Total_months))"
   ]
  },
  {
   "cell_type": "code",
   "execution_count": 55,
   "metadata": {
    "scrolled": false
   },
   "outputs": [
    {
     "name": "stdout",
     "output_type": "stream",
     "text": [
      "38382578\n"
     ]
    }
   ],
   "source": [
    "# Summing the total profit/Losses\n",
    "Total_PF = df[\"Profit/Losses\"].sum()\n",
    "print(Total_PF)"
   ]
  },
  {
   "cell_type": "code",
   "execution_count": 97,
   "metadata": {
    "scrolled": false
   },
   "outputs": [
    {
     "name": "stdout",
     "output_type": "stream",
     "text": [
      "[867884, 984655, 322013, -69417, 310503, 522857, 1033096, 604885, -216386, 477532, 893810, -80353, 779806, -335203, 697845, 793163, 485070, 584122, 62729, 668179, 899906, 834719, 132003, 309978, -755566, 1170593, 252788, 1151518, 817256, 570757, 506702, -1022534, 475062, 779976, 144175, 542494, 359333, 321469, 67780, 471435, 565603, 872480, 789480, 999942, -1196225, 268997, -687986, 1150461, 682458, 617856, 824098, 581943, 132864, 448062, 689161, 800701, 1166643, 947333, 578668, 988505, 1139715, 1029471, 687533, -524626, 158620, 87795, 423389, 840723, 568529, 332067, 989499, 778237, 650000, -1100387, -174946, 757143, 445709, 712961, -1163797, 569899, 768450, 102685, 795914, 60988, 138230, 671099]\n",
      "<class 'list'>\n"
     ]
    }
   ],
   "source": [
    "#Get values from the Profit/Losses and create a list\n",
    "\n",
    "Average = []\n",
    "x = 0\n",
    "amount = 0\n",
    "\n",
    "for items, row in df.iterrows():\n",
    "    \n",
    "    try:\n",
    "        x = row[\"Profit/Losses\"]\n",
    "        Average.append(x)\n",
    "   \n",
    "    except IndexError:\n",
    "        continue \n",
    "\n",
    "#Error checking with print statement\n",
    "#print(Average) \n"
   ]
  },
  {
   "cell_type": "code",
   "execution_count": 106,
   "metadata": {},
   "outputs": [
    {
     "name": "stdout",
     "output_type": "stream",
     "text": [
      "[-116771, 662642, 391430, -379920, -212354, -510239, 428211, 821271, -693918, -416278, 974163, -860159, 1115009, -1033048, -95318, 308093, -99052, 521393, -605450, -231727, 65187, 702716, -177975, 1065544, -1926159, 917805, -898730, 334262, 246499, 64055, 1529236, -1497596, -304914, 635801, -398319, 183161, 37864, 253689, -403655, -94168, -306877, 83000, -210462, 2196167, -1465222, 956983, -1838447, 468003, 64602, -206242, 242155, 449079, -315198, -241099, -111540, -365942, 219310, 368665, -409837, -151210, 110244, 341938, 1212159, -683246, 70825, -335594, -417334, 272194, 236462, -657432, 211262, 128237, 1750387, -925441, -932089, 311434, -267252, 1876758, -1733696, -198551, 665765, -693229, 734926, -77242, -532869]\n"
     ]
    }
   ],
   "source": [
    "# loop through this list to find the change from row i to row i + 1\n",
    "change = []\n",
    "i = 0\n",
    "\n",
    "for i in range(len(Average)):\n",
    "    try:\n",
    "        y = (Average[i] - Average[i+1])\n",
    "        change.append(y)\n",
    "    \n",
    "    except IndexError:\n",
    "        y = Average[i]\n",
    "\n",
    "#Error checking\n",
    "#print(change)"
   ]
  },
  {
   "cell_type": "code",
   "execution_count": 114,
   "metadata": {
    "scrolled": false
   },
   "outputs": [
    {
     "name": "stdout",
     "output_type": "stream",
     "text": [
      "2288\n"
     ]
    }
   ],
   "source": [
    "Sum_change = int(sum(change)/len(Average))\n",
    "print(Sum_change)"
   ]
  },
  {
   "cell_type": "code",
   "execution_count": 110,
   "metadata": {
    "scrolled": false
   },
   "outputs": [
    {
     "name": "stdout",
     "output_type": "stream",
     "text": [
      "2196167\n",
      "-1926159\n"
     ]
    }
   ],
   "source": [
    "print(max(change))\n",
    "print(min(change))"
   ]
  },
  {
   "cell_type": "code",
   "execution_count": null,
   "metadata": {},
   "outputs": [],
   "source": []
  }
 ],
 "metadata": {
  "kernelspec": {
   "display_name": "Python 3",
   "language": "python",
   "name": "python3"
  },
  "language_info": {
   "codemirror_mode": {
    "name": "ipython",
    "version": 3
   },
   "file_extension": ".py",
   "mimetype": "text/x-python",
   "name": "python",
   "nbconvert_exporter": "python",
   "pygments_lexer": "ipython3",
   "version": "3.8.5"
  }
 },
 "nbformat": 4,
 "nbformat_minor": 4
}
