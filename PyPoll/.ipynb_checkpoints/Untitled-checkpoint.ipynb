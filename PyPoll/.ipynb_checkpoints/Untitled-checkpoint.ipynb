{
 "cells": [
  {
   "cell_type": "code",
   "execution_count": 1,
   "metadata": {},
   "outputs": [],
   "source": [
    "# Import modules\n",
    "import os\n",
    "import csv\n",
    "import pandas as pd\n"
   ]
  },
  {
   "cell_type": "code",
   "execution_count": 2,
   "metadata": {},
   "outputs": [],
   "source": [
    "csvpath = os.path.join(\"Resources\", \"election_data.csv\")\n",
    "\n",
    "Total_Votes = []\n",
    "Khan_Count = 0\n",
    "Correy_Count = 0\n",
    "Li_Count = 0\n",
    "Tooley_Count = 0\n",
    "percent = \"%\""
   ]
  },
  {
   "cell_type": "code",
   "execution_count": 3,
   "metadata": {},
   "outputs": [],
   "source": [
    "with open(csvpath) as csv_file:\n",
    "\n",
    "    # CSV reader specifies delimiter and variable that holds contents\n",
    "    csv_reader = csv.reader(csv_file, delimiter=\",\")\n",
    "    csv_header = next(csv_file)\n",
    "\n",
    "    #loop through to count the number of election results for each candidate\n",
    "    for row in csv_reader:\n",
    "\n",
    "    \tTotal_Votes.append(row[0])\n",
    "\n",
    "    \tif row[2] == \"Khan\":\n",
    "    \t\tKhan_Count = Khan_Count + 1\n",
    "    \telif row[2] == \"Correy\":\n",
    "    \t\tCorrey_Count = Correy_Count + 1\n",
    "    \telif row[2] == \"Li\":\n",
    "    \t\tLi_Count = Li_Count + 1\n",
    "    \telse:\n",
    "    \t\tTooley_Count = Tooley_Count +1\n",
    "\n",
    "#Find percentage of votes for each candidate \n",
    "Perc_Khan = (Khan_Count/len(Total_Votes)) * 100\n",
    "Perc_Correy = (Correy_Count/len(Total_Votes)) * 100\n",
    "Perc_Li = (Li_Count/len(Total_Votes)) * 100\n",
    "Perc_Tooley = (Tooley_Count/len(Total_Votes)) * 100\n"
   ]
  },
  {
   "cell_type": "code",
   "execution_count": 16,
   "metadata": {},
   "outputs": [
    {
     "data": {
      "text/plain": [
       "Candidate            object\n",
       "Voter_Percentage    float64\n",
       "dtype: object"
      ]
     },
     "execution_count": 16,
     "metadata": {},
     "output_type": "execute_result"
    }
   ],
   "source": [
    "Election_Results = pd.DataFrame({\n",
    "    \"Candidate\": [\"Khan\", \"Correy\", \"Li\", \"O'Tooley\"],\n",
    "    \"Voter_Percentage\": [Perc_Khan, Perc_Correy, Perc_Li, Perc_Tooley]})\n",
    "\n",
    "Election_Results.astype({\"Voter_Percentage\" : \"float64\"})\n",
    "Election_Winner = Election_Results[\"Voter_Percentage\"]\n",
    "Winner = Election_Winner.idxmax(axis=1)\n",
    "Election_Results.dtypes"
   ]
  },
  {
   "cell_type": "code",
   "execution_count": 7,
   "metadata": {},
   "outputs": [
    {
     "name": "stdout",
     "output_type": "stream",
     "text": [
      "0\n"
     ]
    }
   ],
   "source": [
    "print(Winner)"
   ]
  },
  {
   "cell_type": "code",
   "execution_count": null,
   "metadata": {},
   "outputs": [],
   "source": []
  },
  {
   "cell_type": "code",
   "execution_count": null,
   "metadata": {},
   "outputs": [],
   "source": []
  },
  {
   "cell_type": "code",
   "execution_count": null,
   "metadata": {},
   "outputs": [],
   "source": []
  }
 ],
 "metadata": {
  "kernelspec": {
   "display_name": "Python 3",
   "language": "python",
   "name": "python3"
  },
  "language_info": {
   "codemirror_mode": {
    "name": "ipython",
    "version": 3
   },
   "file_extension": ".py",
   "mimetype": "text/x-python",
   "name": "python",
   "nbconvert_exporter": "python",
   "pygments_lexer": "ipython3",
   "version": "3.8.5"
  }
 },
 "nbformat": 4,
 "nbformat_minor": 4
}
